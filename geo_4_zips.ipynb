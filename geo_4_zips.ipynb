{
 "cells": [
  {
   "cell_type": "code",
   "execution_count": 1,
   "metadata": {},
   "outputs": [],
   "source": [
    "import pandas as pd\n",
    "from splinter import Browser\n",
    "from bs4 import BeautifulSoup as bs\n",
    "import requests\n",
    "from os.path  import basename\n",
    "import re"
   ]
  },
  {
   "cell_type": "code",
   "execution_count": 3,
   "metadata": {},
   "outputs": [
    {
     "name": "stdout",
     "output_type": "stream",
     "text": [
      "/usr/local/bin/chromedriver\r\n"
     ]
    }
   ],
   "source": [
    "# https://splinter.readthedocs.io/en/latest/drivers/chrome.html\n",
    "!which chromedriver"
   ]
  },
  {
   "cell_type": "code",
   "execution_count": 4,
   "metadata": {},
   "outputs": [],
   "source": [
    "executable_path = {'executable_path': '/usr/local/bin/chromedriver'}\n",
    "browser = Browser('chrome', **executable_path, headless=False)"
   ]
  },
  {
   "cell_type": "code",
   "execution_count": 6,
   "metadata": {},
   "outputs": [],
   "source": [
    "url = 'https://www.zipcodestogo.com/New%20York/'\n",
    "browser.visit(url)"
   ]
  },
  {
   "cell_type": "code",
   "execution_count": null,
   "metadata": {},
   "outputs": [],
   "source": [
    "# Need to click 3rd link \n",
    "url = 'https://www.zipcodestogo.com/New%20York/'\n",
    "response_hemi = requests.get(url)\n",
    "soup = bs(response_hemi.text, 'html.parser') \n",
    "\n",
    "ilinks = soup.find_all(\"a\",class_=\"inner table\")\n",
    "titles= []\n",
    "links = []\n",
    "for ilink in ilinks:\n",
    "    title= ilink.find(\"a\").text\n",
    "    link = ilink[\"href\"]\n",
    "    titles.append(title)\n",
    "    links.append(link)\n",
    "    \n",
    "print(titles)\n",
    "print(links)"
   ]
  },
  {
   "cell_type": "code",
   "execution_count": null,
   "metadata": {},
   "outputs": [],
   "source": [
    "# Loop through returned urls with titles \n",
    "\n",
    "browser.visit(url)\n",
    "geocode_zip_urls = []\n",
    "geocode_grab =[]\n",
    "\n",
    "for i in range(len(titles)):\n",
    "    \n",
    "    try:\n",
    "        browser.click_link_by_partial_text(titles[i])\n",
    "        \n",
    "    except:\n",
    "        browser.find_link_by_text('2').first.click()\n",
    "        browser.click_link_by_partial_text(titles[i])\n",
    "    html = browser.html\n",
    "    soup1 = bs(html, 'html.parser')\n",
    "\n",
    "    hemi_downloads = soup1.find('div', 'downloads')\n",
    "    print(titles[i], '-----------')\n",
    "    hemi_url = hemi_downloads.a['href']\n",
    "    print(hemi_url)\n",
    "    hemi_dict = {\"title\": titles[i], 'img_url':hemi_url}\n",
    "    hemi_img_urls.append(hemi_dict)\n",
    "    \n",
    "print(hemi_img_urls)\n",
    "\n"
   ]
  }
 ],
 "metadata": {
  "kernelspec": {
   "display_name": "Python 3",
   "language": "python",
   "name": "python3"
  },
  "language_info": {
   "codemirror_mode": {
    "name": "ipython",
    "version": 3
   },
   "file_extension": ".py",
   "mimetype": "text/x-python",
   "name": "python",
   "nbconvert_exporter": "python",
   "pygments_lexer": "ipython3",
   "version": "3.6.4"
  }
 },
 "nbformat": 4,
 "nbformat_minor": 2
}
