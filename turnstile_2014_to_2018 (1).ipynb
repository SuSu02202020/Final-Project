{
 "cells": [
  {
   "cell_type": "markdown",
   "metadata": {},
   "source": [
    "# Reading multiple csv files with Spark\n"
   ]
  },
  {
   "cell_type": "code",
   "execution_count": 2,
   "metadata": {},
   "outputs": [],
   "source": [
    "# Import our SparkSession so we can use it\n",
    "from pyspark.sql import SparkSession\n",
    "# Create our SparkSession, this can take a couple minutes locally\n",
    "spark = SparkSession.builder.appName(\"basics\").getOrCreate()"
   ]
  },
  {
   "cell_type": "code",
   "execution_count": 7,
   "metadata": {},
   "outputs": [
    {
     "name": "stdout",
     "output_type": "stream",
     "text": [
      "+----+----+--------+-------------+---------+--------+----------+--------+-----------+-------+----------------------------------------------------------+\n",
      "| C/A|Unit|     SCP|      Station|Line Name|Division|      Date|    Time|Description|Entries|Exits                                                     |\n",
      "+----+----+--------+-------------+---------+--------+----------+--------+-----------+-------+----------------------------------------------------------+\n",
      "|A002|R051|02-00-00|LEXINGTON AVE|   NQR456|     BMT|12/31/2014|23:00:00|    REGULAR|4943320|                                                   1674736|\n",
      "|A002|R051|02-00-00|LEXINGTON AVE|   NQR456|     BMT|12/31/2014|19:00:00|    REGULAR|4943145|                                                   1674709|\n",
      "|A002|R051|02-00-00|LEXINGTON AVE|   NQR456|     BMT|12/31/2014|15:00:00|    REGULAR|4942439|                                                   1674636|\n",
      "|A002|R051|02-00-00|LEXINGTON AVE|   NQR456|     BMT|12/31/2014|11:00:00|    REGULAR|4942012|                                                   1674547|\n",
      "|A002|R051|02-00-00|LEXINGTON AVE|   NQR456|     BMT|12/31/2014|10:21:51|    REGULAR|4941987|                                                   1674518|\n",
      "|A002|R051|02-00-00|LEXINGTON AVE|   NQR456|     BMT|12/31/2014|07:00:00|    REGULAR|4941910|                                                   1674322|\n",
      "|A002|R051|02-00-00|LEXINGTON AVE|   NQR456|     BMT|12/31/2014|03:00:00|    REGULAR|4941892|                                                   1674290|\n",
      "|A002|R051|02-00-00|LEXINGTON AVE|   NQR456|     BMT|12/30/2014|23:00:00|    REGULAR|4941835|                                                   1674276|\n",
      "|A002|R051|02-00-00|LEXINGTON AVE|   NQR456|     BMT|12/30/2014|19:00:00|    REGULAR|4941463|                                                   1674253|\n",
      "|A002|R051|02-00-00|LEXINGTON AVE|   NQR456|     BMT|12/30/2014|15:00:00|    REGULAR|4940620|                                                   1674155|\n",
      "|A002|R051|02-00-00|LEXINGTON AVE|   NQR456|     BMT|12/30/2014|11:00:00|    REGULAR|4940338|                                                   1674085|\n",
      "|A002|R051|02-00-00|LEXINGTON AVE|   NQR456|     BMT|12/30/2014|07:00:00|    REGULAR|4940232|                                                   1673810|\n",
      "|A002|R051|02-00-00|LEXINGTON AVE|   NQR456|     BMT|12/30/2014|03:00:00|    REGULAR|4940218|                                                   1673776|\n",
      "|A002|R051|02-00-00|LEXINGTON AVE|   NQR456|     BMT|12/29/2014|23:00:00|    REGULAR|4940171|                                                   1673769|\n",
      "|A002|R051|02-00-00|LEXINGTON AVE|   NQR456|     BMT|12/29/2014|19:00:00|    REGULAR|4939811|                                                   1673737|\n",
      "|A002|R051|02-00-00|LEXINGTON AVE|   NQR456|     BMT|12/29/2014|15:00:00|    REGULAR|4938984|                                                   1673630|\n",
      "|A002|R051|02-00-00|LEXINGTON AVE|   NQR456|     BMT|12/29/2014|11:00:00|    REGULAR|4938701|                                                   1673541|\n",
      "|A002|R051|02-00-00|LEXINGTON AVE|   NQR456|     BMT|12/29/2014|07:00:00|    REGULAR|4938574|                                                   1673262|\n",
      "|A002|R051|02-00-00|LEXINGTON AVE|   NQR456|     BMT|12/29/2014|03:00:00|    REGULAR|4938566|                                                   1673233|\n",
      "|A002|R051|02-00-00|LEXINGTON AVE|   NQR456|     BMT|12/28/2014|23:00:00|    REGULAR|4938544|                                                   1673223|\n",
      "+----+----+--------+-------------+---------+--------+----------+--------+-----------+-------+----------------------------------------------------------+\n",
      "only showing top 20 rows\n",
      "\n"
     ]
    }
   ],
   "source": [
    "# Load in data\n",
    "from pyspark import SparkFiles #same\n",
    "url = \"Resources/Turnstile_data/*.csv\"\n",
    "df = spark.read.csv(url, header=True, mode=\"DROPMALFORMED\")\n",
    "df.show() "
   ]
  },
  {
   "cell_type": "code",
   "execution_count": 8,
   "metadata": {},
   "outputs": [
    {
     "name": "stdout",
     "output_type": "stream",
     "text": [
      "root\n",
      " |-- C/A: string (nullable = true)\n",
      " |-- Unit: string (nullable = true)\n",
      " |-- SCP: string (nullable = true)\n",
      " |-- Station: string (nullable = true)\n",
      " |-- Line Name: string (nullable = true)\n",
      " |-- Division: string (nullable = true)\n",
      " |-- Date: string (nullable = true)\n",
      " |-- Time: string (nullable = true)\n",
      " |-- Description: string (nullable = true)\n",
      " |-- Entries: string (nullable = true)\n",
      " |-- Exits                                                     : string (nullable = true)\n",
      "\n"
     ]
    }
   ],
   "source": [
    "# Print our schema\n",
    "df.printSchema()"
   ]
  },
  {
   "cell_type": "code",
   "execution_count": 9,
   "metadata": {},
   "outputs": [
    {
     "data": {
      "text/plain": [
       "['C/A',\n",
       " 'Unit',\n",
       " 'SCP',\n",
       " 'Station',\n",
       " 'Line Name',\n",
       " 'Division',\n",
       " 'Date',\n",
       " 'Time',\n",
       " 'Description',\n",
       " 'Entries',\n",
       " 'Exits                                                     ']"
      ]
     },
     "execution_count": 9,
     "metadata": {},
     "output_type": "execute_result"
    }
   ],
   "source": [
    "# Show the columns\n",
    "df.columns"
   ]
  },
  {
   "cell_type": "code",
   "execution_count": 10,
   "metadata": {},
   "outputs": [
    {
     "data": {
      "text/plain": [
       "Column<b'Station'>"
      ]
     },
     "execution_count": 10,
     "metadata": {},
     "output_type": "execute_result"
    }
   ],
   "source": [
    "df['Station']"
   ]
  },
  {
   "cell_type": "code",
   "execution_count": 12,
   "metadata": {},
   "outputs": [
    {
     "name": "stdout",
     "output_type": "stream",
     "text": [
      "+----------+-------------+-------+\n",
      "|      Date|      Station|Entries|\n",
      "+----------+-------------+-------+\n",
      "|12/31/2014|LEXINGTON AVE|4943320|\n",
      "|12/31/2014|LEXINGTON AVE|4943145|\n",
      "|12/31/2014|LEXINGTON AVE|4942439|\n",
      "|12/31/2014|LEXINGTON AVE|4942012|\n",
      "|12/31/2014|LEXINGTON AVE|4941987|\n",
      "|12/31/2014|LEXINGTON AVE|4941910|\n",
      "|12/31/2014|LEXINGTON AVE|4941892|\n",
      "|12/30/2014|LEXINGTON AVE|4941835|\n",
      "|12/30/2014|LEXINGTON AVE|4941463|\n",
      "|12/30/2014|LEXINGTON AVE|4940620|\n",
      "|12/30/2014|LEXINGTON AVE|4940338|\n",
      "|12/30/2014|LEXINGTON AVE|4940232|\n",
      "|12/30/2014|LEXINGTON AVE|4940218|\n",
      "|12/29/2014|LEXINGTON AVE|4940171|\n",
      "|12/29/2014|LEXINGTON AVE|4939811|\n",
      "|12/29/2014|LEXINGTON AVE|4938984|\n",
      "|12/29/2014|LEXINGTON AVE|4938701|\n",
      "|12/29/2014|LEXINGTON AVE|4938574|\n",
      "|12/29/2014|LEXINGTON AVE|4938566|\n",
      "|12/28/2014|LEXINGTON AVE|4938544|\n",
      "+----------+-------------+-------+\n",
      "only showing top 20 rows\n",
      "\n"
     ]
    }
   ],
   "source": [
    "rider_data = df.select('Date','Station', 'Entries').show()"
   ]
  },
  {
   "cell_type": "code",
   "execution_count": 13,
   "metadata": {},
   "outputs": [
    {
     "ename": "AttributeError",
     "evalue": "'NoneType' object has no attribute 'groupby'",
     "output_type": "error",
     "traceback": [
      "\u001b[1;31m---------------------------------------------------------------------------\u001b[0m",
      "\u001b[1;31mAttributeError\u001b[0m                            Traceback (most recent call last)",
      "\u001b[1;32m<ipython-input-13-a0eecafbb4ad>\u001b[0m in \u001b[0;36m<module>\u001b[1;34m()\u001b[0m\n\u001b[1;32m----> 1\u001b[1;33m \u001b[0mrider_data\u001b[0m\u001b[1;33m.\u001b[0m\u001b[0mgroupby\u001b[0m\u001b[1;33m(\u001b[0m\u001b[0mby\u001b[0m\u001b[1;33m=\u001b[0m\u001b[1;34m'Stations'\u001b[0m\u001b[1;33m)\u001b[0m\u001b[1;33m\u001b[0m\u001b[0m\n\u001b[0m",
      "\u001b[1;31mAttributeError\u001b[0m: 'NoneType' object has no attribute 'groupby'"
     ]
    }
   ],
   "source": [
    "rider_data.groupby(by='Stations')"
   ]
  },
  {
   "cell_type": "code",
   "execution_count": 9,
   "metadata": {},
   "outputs": [
    {
     "data": {
      "text/plain": [
       "[Row(C/A='R626', Unit='R062', SCP='00-00-00', Station='CROWN HTS-UTICA', Line Name='34', Division='IRT', Date='06/17/2014', Time='08:00:00', Description='REGULAR', Entries='9999999', Exits                                                     ='2242502'),\n",
       " Row(C/A='B019', Unit='R149', SCP='00-00-02', Station='NEWKIRK PLAZA', Line Name='BQ', Division='BMT', Date='01/22/2018', Time='20:00:00', Description='REGULAR', Entries='9999997', Exits                                                     ='11600216'),\n",
       " Row(C/A='R248', Unit='R178', SCP='00-00-07', Station='77 ST', Line Name='6', Division='IRT', Date='11/29/2017', Time='16:00:00', Description='REGULAR', Entries='9999996', Exits                                                     ='1413693'),\n",
       " Row(C/A='H007', Unit='R248', SCP='00-00-00', Station='1 AVE', Line Name='L', Division='BMT', Date='08/08/2015', Time='00:00:00', Description='REGULAR', Entries='9999995', Exits                                                     ='10879540'),\n",
       " Row(C/A='H027', Unit='R137', SCP='01-00-00', Station='MYRTLE-WYCKOFF', Line Name='LM', Division='BMT', Date='01/31/2018', Time='11:00:00', Description='REGULAR', Entries='9999995', Exits                                                     ='5496149')]"
      ]
     },
     "execution_count": 9,
     "metadata": {},
     "output_type": "execute_result"
    }
   ],
   "source": [
    "df.orderBy(df[\"Entries\"].desc()).head(5)"
   ]
  },
  {
   "cell_type": "code",
   "execution_count": 10,
   "metadata": {},
   "outputs": [
    {
     "data": {
      "text/plain": [
       "49230245"
      ]
     },
     "execution_count": 10,
     "metadata": {},
     "output_type": "execute_result"
    }
   ],
   "source": [
    "df.count()"
   ]
  },
  {
   "cell_type": "code",
   "execution_count": 11,
   "metadata": {},
   "outputs": [],
   "source": [
    "import pandas as pd\n",
    "import numpy as np\n",
    "\n",
    "import datetime as dt\n",
    "import re\n",
    "import time\n",
    "\n",
    "import matplotlib.pyplot as plt\n",
    "\n",
    "import seaborn as sns\n"
   ]
  },
  {
   "cell_type": "code",
   "execution_count": null,
   "metadata": {},
   "outputs": [],
   "source": []
  }
 ],
 "metadata": {
  "kernelspec": {
   "display_name": "Python 3",
   "language": "python",
   "name": "python3"
  },
  "language_info": {
   "codemirror_mode": {
    "name": "ipython",
    "version": 3
   },
   "file_extension": ".py",
   "mimetype": "text/x-python",
   "name": "python",
   "nbconvert_exporter": "python",
   "pygments_lexer": "ipython3",
   "version": "3.6.5"
  }
 },
 "nbformat": 4,
 "nbformat_minor": 2
}
