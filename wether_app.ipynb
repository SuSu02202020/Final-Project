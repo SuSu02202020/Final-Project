{
 "cells": [
  {
   "cell_type": "markdown",
   "metadata": {},
   "source": [
    "# WeatherPy\n"
   ]
  },
  {
   "cell_type": "markdown",
   "metadata": {},
   "source": [
    "#Your objective is to build a series of scatter plots to showcase the following relationships:\n",
    "\n",
    "\n",
    "Temperature (F) vs. Latitude, \n",
    "Humidity (%) vs. Latitude, \n",
    "Cloudiness (%) vs. Latitude, \n",
    "Wind Speed (mph) vs. Latitude."
   ]
  },
  {
   "cell_type": "code",
   "execution_count": 1,
   "metadata": {
    "scrolled": true
   },
   "outputs": [],
   "source": [
    "# Dependencies and Setup\n",
    "import matplotlib.pyplot as plt\n",
    "import pandas as pd\n",
    "import numpy as np\n",
    "import requests as req\n",
    "import time\n",
    "import json\n",
    "import random\n",
    "from pprint import pprint\n",
    "from collections import OrderedDict\n",
    "\n",
    "\n",
    "# Import API key\n",
    "from api_keys import api_key\n",
    "\n",
    "# Incorporated citipy to determine city based on latitude and longitude\n",
    "from citipy import citipy\n",
    "\n",
    "# Output File (CSV)\n",
    "# output_data_file = \"output_data/cities.csv\"\n",
    "\n",
    "\n",
    "# Range of latitudes and longitudes\n",
    "lat_lng = (43.2994 , 74.2179)"
   ]
  },
  {
   "cell_type": "markdown",
   "metadata": {},
   "source": [
    "## Generate Cities List"
   ]
  },
  {
   "cell_type": "code",
   "execution_count": 22,
   "metadata": {},
   "outputs": [],
   "source": [
    "# #1- giting the lat and logs of the nerest cities from the citypy\n",
    "\n",
    "# lat = np.random.uniform(low=-90.000, high=90.000, size=10)\n",
    "# lng = np.random.uniform(low=-180.000, high=180.000, size=10)\n",
    "\n",
    "# lat[0], lng[0]"
   ]
  },
  {
   "cell_type": "code",
   "execution_count": 23,
   "metadata": {
    "scrolled": true
   },
   "outputs": [],
   "source": [
    "# #1.2 loop to get the lats and lngs of the number of cities we want\n",
    "# lat_lng = []\n",
    "\n",
    "# for i in range(len(lat)):\n",
    "#     i=lat[i],lng[i]\n",
    "#     #print(i)\n",
    "#     lat_lng.append(i)\n",
    "    \n",
    "# #testing\n",
    "# print(len(lat_lng))"
   ]
  },
  {
   "cell_type": "code",
   "execution_count": 24,
   "metadata": {},
   "outputs": [],
   "source": [
    "# #testing\n",
    "# citipy.nearest_city(lat,lng).city_name\n",
    "# citipy.nearest_city(40.7128, 74.0060).country_code\n"
   ]
  },
  {
   "cell_type": "code",
   "execution_count": 25,
   "metadata": {
    "scrolled": true
   },
   "outputs": [],
   "source": [
    "# #1.3 get the cities data of the above lat_lng list\n",
    "\n",
    "# cities = []\n",
    "\n",
    "# for loc in lat_lng:\n",
    "#     print(f\"This is city nu # \" + str(len(cities)+1))\n",
    "#     print (loc)\n",
    "#     lat = loc[0]\n",
    "#     lng = loc[1]\n",
    "\n",
    "#     city = citipy.nearest_city(lat,lng).city_name , citipy.nearest_city(lat,lng).country_code\n",
    "    \n",
    "#     #print(city)\n",
    "#     print(\"*--------------------------------*\")\n",
    "#     cities.append(city)\n",
    "\n",
    "\n",
    "# #print(cities)   "
   ]
  },
  {
   "cell_type": "markdown",
   "metadata": {},
   "source": [
    "### Perform API Calls\n",
    "* Perform a weather check on each city using a series of successive API calls.\n",
    "* Include a print log of each city as it'sbeing processed (with the city number and city name).\n"
   ]
  },
  {
   "cell_type": "code",
   "execution_count": 57,
   "metadata": {
    "scrolled": false
   },
   "outputs": [
    {
     "data": {
      "text/plain": [
       "{'coord': {'lon': -73.99, 'lat': 40.73},\n",
       " 'weather': [{'id': 800,\n",
       "   'main': 'Clear',\n",
       "   'description': 'clear sky',\n",
       "   'icon': '01d'}],\n",
       " 'base': 'stations',\n",
       " 'main': {'temp': 274.45,\n",
       "  'pressure': 1021,\n",
       "  'humidity': 41,\n",
       "  'temp_min': 273.75,\n",
       "  'temp_max': 275.35},\n",
       " 'visibility': 16093,\n",
       " 'wind': {'speed': 1.47, 'deg': 304.503},\n",
       " 'clouds': {'all': 1},\n",
       " 'dt': 1547574960,\n",
       " 'sys': {'type': 1,\n",
       "  'id': 5141,\n",
       "  'message': 0.0048,\n",
       "  'country': 'US',\n",
       "  'sunrise': 1547554660,\n",
       "  'sunset': 1547589231},\n",
       " 'id': 5128581,\n",
       " 'name': 'New York',\n",
       " 'cod': 200}"
      ]
     },
     "execution_count": 57,
     "metadata": {},
     "output_type": "execute_result"
    }
   ],
   "source": [
    "#2 read the url of each city by json\n",
    "# base_url = \"http://api.openweathermap.org/data/2.5/weather?q=new york,us&appid=25f70f11d823a01fb8cf2860c0e875c1\"\n",
    "base_url = \"http://api.openweathermap.org/data/2.5/weather?q=new%20york,us&appid=25f70f11d823a01fb8cf2860c0e875c1\"\n",
    "# query_url = f\"{base_url}appid={api_key}&units={units}&q=\"\n",
    "\n",
    "NY = req.get(base_url).json()\n",
    "NY"
   ]
  },
  {
   "cell_type": "code",
   "execution_count": 59,
   "metadata": {
    "scrolled": true
   },
   "outputs": [
    {
     "ename": "ValueError",
     "evalue": "DataFrame constructor not properly called!",
     "output_type": "error",
     "traceback": [
      "\u001b[0;31m---------------------------------------------------------------------------\u001b[0m",
      "\u001b[0;31mValueError\u001b[0m                                Traceback (most recent call last)",
      "\u001b[0;32m<ipython-input-59-8b00582808a9>\u001b[0m in \u001b[0;36m<module>\u001b[0;34m()\u001b[0m\n\u001b[0;32m----> 1\u001b[0;31m \u001b[0mDF\u001b[0m \u001b[0;34m=\u001b[0m \u001b[0mpd\u001b[0m\u001b[0;34m.\u001b[0m\u001b[0mDataFrame\u001b[0m\u001b[0;34m(\u001b[0m\u001b[0mmain\u001b[0m\u001b[0;34m,\u001b[0m \u001b[0mindex\u001b[0m \u001b[0;34m=\u001b[0m \u001b[0;34m[\u001b[0m\u001b[0;36m0\u001b[0m\u001b[0;34m]\u001b[0m\u001b[0;34m)\u001b[0m\u001b[0;34m\u001b[0m\u001b[0m\n\u001b[0m\u001b[1;32m      2\u001b[0m \u001b[0mDF\u001b[0m\u001b[0;34m\u001b[0m\u001b[0m\n",
      "\u001b[0;32m~/anaconda3/lib/python3.6/site-packages/pandas/core/frame.py\u001b[0m in \u001b[0;36m__init__\u001b[0;34m(self, data, index, columns, dtype, copy)\u001b[0m\n\u001b[1;32m    420\u001b[0m                                          dtype=values.dtype, copy=False)\n\u001b[1;32m    421\u001b[0m             \u001b[0;32melse\u001b[0m\u001b[0;34m:\u001b[0m\u001b[0;34m\u001b[0m\u001b[0m\n\u001b[0;32m--> 422\u001b[0;31m                 \u001b[0;32mraise\u001b[0m \u001b[0mValueError\u001b[0m\u001b[0;34m(\u001b[0m\u001b[0;34m'DataFrame constructor not properly called!'\u001b[0m\u001b[0;34m)\u001b[0m\u001b[0;34m\u001b[0m\u001b[0m\n\u001b[0m\u001b[1;32m    423\u001b[0m \u001b[0;34m\u001b[0m\u001b[0m\n\u001b[1;32m    424\u001b[0m         \u001b[0mNDFrame\u001b[0m\u001b[0;34m.\u001b[0m\u001b[0m__init__\u001b[0m\u001b[0;34m(\u001b[0m\u001b[0mself\u001b[0m\u001b[0;34m,\u001b[0m \u001b[0mmgr\u001b[0m\u001b[0;34m,\u001b[0m \u001b[0mfastpath\u001b[0m\u001b[0;34m=\u001b[0m\u001b[0;32mTrue\u001b[0m\u001b[0;34m)\u001b[0m\u001b[0;34m\u001b[0m\u001b[0m\n",
      "\u001b[0;31mValueError\u001b[0m: DataFrame constructor not properly called!"
     ]
    }
   ],
   "source": [
    "DF = pd.DataFrame(main, index = [0])\n",
    "DF"
   ]
  },
  {
   "cell_type": "code",
   "execution_count": null,
   "metadata": {},
   "outputs": [],
   "source": []
  },
  {
   "cell_type": "markdown",
   "metadata": {},
   "source": [
    "### Convert Raw Data to DataFrame\n",
    "* Export the city data into a .csv.\n",
    "* Display the DataFrame"
   ]
  },
  {
   "cell_type": "code",
   "execution_count": 33,
   "metadata": {
    "scrolled": true
   },
   "outputs": [
    {
     "data": {
      "text/html": [
       "<div>\n",
       "<style scoped>\n",
       "    .dataframe tbody tr th:only-of-type {\n",
       "        vertical-align: middle;\n",
       "    }\n",
       "\n",
       "    .dataframe tbody tr th {\n",
       "        vertical-align: top;\n",
       "    }\n",
       "\n",
       "    .dataframe thead th {\n",
       "        text-align: right;\n",
       "    }\n",
       "</style>\n",
       "<table border=\"1\" class=\"dataframe\">\n",
       "  <thead>\n",
       "    <tr style=\"text-align: right;\">\n",
       "      <th></th>\n",
       "    </tr>\n",
       "  </thead>\n",
       "  <tbody>\n",
       "  </tbody>\n",
       "</table>\n",
       "</div>"
      ],
      "text/plain": [
       "Empty DataFrame\n",
       "Columns: []\n",
       "Index: []"
      ]
     },
     "execution_count": 33,
     "metadata": {},
     "output_type": "execute_result"
    }
   ],
   "source": [
    "#Display the DataFrame\n",
    "\n",
    "DF = pd.DataFrame(city_weather)\n",
    "DF.head()"
   ]
  },
  {
   "cell_type": "code",
   "execution_count": 10,
   "metadata": {},
   "outputs": [
    {
     "data": {
      "text/html": [
       "<div>\n",
       "<style scoped>\n",
       "    .dataframe tbody tr th:only-of-type {\n",
       "        vertical-align: middle;\n",
       "    }\n",
       "\n",
       "    .dataframe tbody tr th {\n",
       "        vertical-align: top;\n",
       "    }\n",
       "\n",
       "    .dataframe thead th {\n",
       "        text-align: right;\n",
       "    }\n",
       "</style>\n",
       "<table border=\"1\" class=\"dataframe\">\n",
       "  <thead>\n",
       "    <tr style=\"text-align: right;\">\n",
       "      <th></th>\n",
       "      <th>City</th>\n",
       "      <th>Country</th>\n",
       "      <th>Lat</th>\n",
       "      <th>Lng</th>\n",
       "      <th>Max Temp</th>\n",
       "      <th>Wind Speed</th>\n",
       "      <th>Humidity</th>\n",
       "      <th>Cloudiness</th>\n",
       "      <th>Date</th>\n",
       "    </tr>\n",
       "  </thead>\n",
       "  <tbody>\n",
       "    <tr>\n",
       "      <th>0</th>\n",
       "      <td>Vila Franca do Campo</td>\n",
       "      <td>PT</td>\n",
       "      <td>37.72</td>\n",
       "      <td>-25.43</td>\n",
       "      <td>69.80</td>\n",
       "      <td>2.24</td>\n",
       "      <td>88</td>\n",
       "      <td>20</td>\n",
       "      <td>1537673400</td>\n",
       "    </tr>\n",
       "    <tr>\n",
       "      <th>1</th>\n",
       "      <td>Castro</td>\n",
       "      <td>CL</td>\n",
       "      <td>-42.48</td>\n",
       "      <td>-73.76</td>\n",
       "      <td>45.57</td>\n",
       "      <td>7.20</td>\n",
       "      <td>100</td>\n",
       "      <td>88</td>\n",
       "      <td>1537675391</td>\n",
       "    </tr>\n",
       "    <tr>\n",
       "      <th>2</th>\n",
       "      <td>Dikson</td>\n",
       "      <td>RU</td>\n",
       "      <td>73.51</td>\n",
       "      <td>80.55</td>\n",
       "      <td>41.61</td>\n",
       "      <td>12.24</td>\n",
       "      <td>90</td>\n",
       "      <td>92</td>\n",
       "      <td>1537675391</td>\n",
       "    </tr>\n",
       "    <tr>\n",
       "      <th>3</th>\n",
       "      <td>East London</td>\n",
       "      <td>ZA</td>\n",
       "      <td>-33.02</td>\n",
       "      <td>27.91</td>\n",
       "      <td>57.20</td>\n",
       "      <td>4.70</td>\n",
       "      <td>82</td>\n",
       "      <td>0</td>\n",
       "      <td>1537671600</td>\n",
       "    </tr>\n",
       "    <tr>\n",
       "      <th>4</th>\n",
       "      <td>Amapa</td>\n",
       "      <td>HN</td>\n",
       "      <td>15.09</td>\n",
       "      <td>-87.97</td>\n",
       "      <td>75.20</td>\n",
       "      <td>3.36</td>\n",
       "      <td>88</td>\n",
       "      <td>75</td>\n",
       "      <td>1537675200</td>\n",
       "    </tr>\n",
       "  </tbody>\n",
       "</table>\n",
       "</div>"
      ],
      "text/plain": [
       "                   City Country    Lat    Lng  Max Temp  Wind Speed  Humidity  \\\n",
       "0  Vila Franca do Campo      PT  37.72 -25.43     69.80        2.24        88   \n",
       "1                Castro      CL -42.48 -73.76     45.57        7.20       100   \n",
       "2                Dikson      RU  73.51  80.55     41.61       12.24        90   \n",
       "3           East London      ZA -33.02  27.91     57.20        4.70        82   \n",
       "4                 Amapa      HN  15.09 -87.97     75.20        3.36        88   \n",
       "\n",
       "   Cloudiness        Date  \n",
       "0          20  1537673400  \n",
       "1          88  1537675391  \n",
       "2          92  1537675391  \n",
       "3           0  1537671600  \n",
       "4          75  1537675200  "
      ]
     },
     "execution_count": 10,
     "metadata": {},
     "output_type": "execute_result"
    }
   ],
   "source": [
    "# reorder my columns in the DF\n",
    "\n",
    "DF=DF[[\"City\", \"Country\", \"Lat\", \"Lng\", \"Max Temp\", \"Wind Speed\", \"Humidity\",\"Cloudiness\", \"Date\"]]\n",
    "DF.head()"
   ]
  },
  {
   "cell_type": "code",
   "execution_count": 17,
   "metadata": {},
   "outputs": [],
   "source": [
    "# Export the city data into a .csv.\n",
    "\n",
    "DF.to_csv(\"HW#6_ WeatherPy.csv\", index=True, header=True)"
   ]
  },
  {
   "cell_type": "markdown",
   "metadata": {},
   "source": [
    "### Plotting the Data\n",
    "* Use proper labeling of the plots using plot titles (including date of analysis) and axes labels.\n",
    "* Save the plotted figures as .pngs."
   ]
  },
  {
   "cell_type": "markdown",
   "metadata": {},
   "source": [
    "#### Latitude vs. Temperature Plot"
   ]
  },
  {
   "cell_type": "code",
   "execution_count": 18,
   "metadata": {
    "scrolled": true
   },
   "outputs": [
    {
     "data": {
      "image/png": "[encoded data removed]",
      "text/plain": [
       "<Figure size 432x288 with 1 Axes>"
      ]
     },
     "metadata": {},
     "output_type": "display_data"
    }
   ],
   "source": [
    "y_axisTemp = DF[\"Max Temp\"]\n",
    "x_axisTemp = DF[\"Lat\"]\n",
    "\n",
    "# Create a title, x label, and y label for our chart\n",
    "plt.title(\"City Latitude vs. Max Temperature\")\n",
    "plt.xlabel(\"Latitude\")\n",
    "plt.ylabel(\"Max Temp (F)\")\n",
    "\n",
    "plt.scatter(x_axisTemp, y_axisTemp, marker=\"o\", facecolors=\"blue\", edgecolors=\"black\")\n",
    "\n",
    "plt.savefig(\"Images/Latitude vs. Temperature.png\")"
   ]
  },
  {
   "cell_type": "markdown",
   "metadata": {},
   "source": [
    "Latitude vs. Temperature observation:\n",
    "\n",
    "There is a strong relationship between latituse and temperature,\n",
    "As expected, the weather becomes significantly warmer as one approaches the equator, and temperature dropes dowen when it gets close to the both ploes espicialy north pole "
   ]
  },
  {
   "cell_type": "markdown",
   "metadata": {},
   "source": [
    "#### Latitude vs. Humidity Plot"
   ]
  },
  {
   "cell_type": "code",
   "execution_count": 19,
   "metadata": {
    "scrolled": true
   },
   "outputs": [
    {
     "data": {
      "image/png": "[encoded data removed]",
      "text/plain": [
       "<Figure size 432x288 with 1 Axes>"
      ]
     },
     "metadata": {},
     "output_type": "display_data"
    }
   ],
   "source": [
    "y_axisHumid = DF[\"Humidity\"]\n",
    "x_axisHumid = DF[\"Lat\"]\n",
    "\n",
    "# Create a title, x label, and y label for our chart\n",
    "plt.title(\"City Latitude vs. Humidity \")\n",
    "plt.xlabel(\"Latitude\")\n",
    "plt.ylabel(\"Humidity % \")\n",
    "\n",
    "plt.scatter(x_axisHumid, y_axisHumid, marker=\"o\", facecolors=\"red\", edgecolors=\"black\")\n",
    "\n",
    "plt.savefig(\"Images/Latitude vs. Humidity Plot.png\")"
   ]
  },
  {
   "cell_type": "markdown",
   "metadata": {},
   "source": [
    "Latitude vs. Humidity observation:\n",
    "\n",
    "There is no strong relationship between lat and humidity, however its is interersting to see that humidity reaches 100% between lat (-20 and 80) "
   ]
  },
  {
   "cell_type": "markdown",
   "metadata": {},
   "source": [
    "#### Latitude vs. Cloudiness Plot"
   ]
  },
  {
   "cell_type": "code",
   "execution_count": 20,
   "metadata": {
    "scrolled": true
   },
   "outputs": [
    {
     "data": {
      "image/png": "[encoded data removed]",
      "text/plain": [
       "<Figure size 432x288 with 1 Axes>"
      ]
     },
     "metadata": {},
     "output_type": "display_data"
    }
   ],
   "source": [
    "y_axisCloudiness = DF[\"Cloudiness\"]\n",
    "x_axisCloudiness = DF[\"Lat\"]\n",
    "\n",
    "# Create a title, x label, and y label for our chart\n",
    "plt.title(\"City Latitude vs. Cloudiness \")\n",
    "plt.xlabel(\"Latitude\")\n",
    "plt.ylabel(\"Cloudiness % \")\n",
    "\n",
    "plt.scatter(x_axisCloudiness, y_axisCloudiness, marker=\"o\", facecolors=\"white\", edgecolors=\"blue\")\n",
    "\n",
    "plt.savefig(\"Images/Latitude vs. Cloudiness Plot.png\")"
   ]
  },
  {
   "cell_type": "markdown",
   "metadata": {},
   "source": [
    "There is slightly relationship between latitude and cloudiness. As it is interesting to see that a strong band of cities sits at 25, 80, and 100% cloudiness."
   ]
  },
  {
   "cell_type": "markdown",
   "metadata": {},
   "source": [
    "#### Latitude vs. Wind Speed Plot"
   ]
  },
  {
   "cell_type": "code",
   "execution_count": 15,
   "metadata": {
    "scrolled": true
   },
   "outputs": [
    {
     "data": {
      "image/png": "[encoded data removed]",
      "text/plain": [
       "<Figure size 432x288 with 1 Axes>"
      ]
     },
     "metadata": {},
     "output_type": "display_data"
    }
   ],
   "source": [
    "y_axisWind = DF[\"Wind Speed\"]\n",
    "x_axisWind = DF[\"Lat\"]\n",
    "\n",
    "# Create a title, x label, and y label for our chart\n",
    "plt.title(\"City Latitude vs. Wind Speed \")\n",
    "plt.xlabel(\"Latitude\")\n",
    "plt.ylabel(\"Wind Speed (mph) \")\n",
    "\n",
    "plt.scatter(x_axisWind, y_axisWind, marker=\"o\", facecolors=\"green\", edgecolors=\"black\")\n",
    "\n",
    "plt.savefig(\"Images/Latitude vs. Wind Speed Plot.png\")"
   ]
  },
  {
   "cell_type": "markdown",
   "metadata": {},
   "source": [
    "Observation of Latitude vs Speed:\n",
    "\n",
    "There is no strong relationship between latitude and wind speed. \n",
    "However, in northern hemispheres there is a flurry of cities with over 20 mph of wind."
   ]
  },
  {
   "cell_type": "code",
   "execution_count": 22,
   "metadata": {},
   "outputs": [],
   "source": [
    "# This is another way (for me)\n",
    "counter=0\n",
    "for weather in city_weather:\n",
    "    #print(weather)\n",
    "    name = weather[\"Country\"]\n",
    "    tem = weather [\"Max Temp\"]\n",
    "    #print(name)\n",
    "      \n",
    "\n"
   ]
  }
 ],
 "metadata": {
  "anaconda-cloud": {},
  "kernelspec": {
   "display_name": "Python 3",
   "language": "python",
   "name": "python3"
  },
  "language_info": {
   "codemirror_mode": {
    "name": "ipython",
    "version": 3
   },
   "file_extension": ".py",
   "mimetype": "text/x-python",
   "name": "python",
   "nbconvert_exporter": "python",
   "pygments_lexer": "ipython3",
   "version": "3.6.5"
  }
 },
 "nbformat": 4,
 "nbformat_minor": 2
}
