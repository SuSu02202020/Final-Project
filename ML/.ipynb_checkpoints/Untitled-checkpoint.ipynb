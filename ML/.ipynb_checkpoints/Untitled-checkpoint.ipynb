{
 "cells": [
  {
   "cell_type": "code",
   "execution_count": 1,
   "metadata": {},
   "outputs": [],
   "source": [
    "import os\n",
    "import pandas as pd"
   ]
  },
  {
   "cell_type": "code",
   "execution_count": 5,
   "metadata": {},
   "outputs": [],
   "source": [
    "weather_data = pd.read_csv('weather_cleaned.csv', header=0)"
   ]
  },
  {
   "cell_type": "code",
   "execution_count": 6,
   "metadata": {},
   "outputs": [
    {
     "data": {
      "text/plain": [
       "['Date',\n",
       " 'city_id',\n",
       " 'temp',\n",
       " 'humidity',\n",
       " 'wind_speed',\n",
       " 'rain_1h',\n",
       " 'rain_3h',\n",
       " 'rain_today',\n",
       " 'snow_today',\n",
       " 'clouds_all',\n",
       " 'weather_description']"
      ]
     },
     "execution_count": 6,
     "metadata": {},
     "output_type": "execute_result"
    }
   ],
   "source": [
    "list(weather_data)"
   ]
  },
  {
   "cell_type": "code",
   "execution_count": 7,
   "metadata": {},
   "outputs": [
    {
     "data": {
      "text/plain": [
       "0        272.03\n",
       "1        271.46\n",
       "2        271.19\n",
       "3        271.07\n",
       "4        270.83\n",
       "5        270.64\n",
       "6        269.98\n",
       "7        269.76\n",
       "8        270.17\n",
       "9        271.33\n",
       "10       271.75\n",
       "11       271.34\n",
       "12       271.41\n",
       "13       271.60\n",
       "14       272.14\n",
       "15       273.12\n",
       "16       274.37\n",
       "17       275.37\n",
       "18       276.43\n",
       "19       276.61\n",
       "20       276.27\n",
       "21       275.56\n",
       "22       275.50\n",
       "23       275.83\n",
       "24       275.76\n",
       "25       275.83\n",
       "26       276.03\n",
       "27       276.03\n",
       "28       276.09\n",
       "29       276.60\n",
       "          ...  \n",
       "61083    282.69\n",
       "61084    282.38\n",
       "61085    281.80\n",
       "61086    281.04\n",
       "61087    280.24\n",
       "61088    279.80\n",
       "61089    279.35\n",
       "61090    279.27\n",
       "61091    278.67\n",
       "61092    278.11\n",
       "61093    277.73\n",
       "61094    277.08\n",
       "61095    276.58\n",
       "61096    275.79\n",
       "61097    275.07\n",
       "61098    275.21\n",
       "61099    275.10\n",
       "61100    275.30\n",
       "61101    275.02\n",
       "61102    274.78\n",
       "61103    274.61\n",
       "61104    274.64\n",
       "61105    275.41\n",
       "61106    275.80\n",
       "61107    276.31\n",
       "61108    276.75\n",
       "61109    276.76\n",
       "61110    276.72\n",
       "61111    276.49\n",
       "61112    276.51\n",
       "Name: temp, Length: 61113, dtype: float64"
      ]
     },
     "execution_count": 7,
     "metadata": {},
     "output_type": "execute_result"
    }
   ],
   "source": [
    "temps = weather_data['temp']\n",
    "temps"
   ]
  },
  {
   "cell_type": "code",
   "execution_count": 10,
   "metadata": {},
   "outputs": [],
   "source": [
    "far_temps = []\n",
    "for x in range(len(temps)):\n",
    "    far_temp=(temps[x] - 273.15) * 9/5 + 32\n",
    "    far_temps.append(far_temp)"
   ]
  },
  {
   "cell_type": "code",
   "execution_count": 11,
   "metadata": {},
   "outputs": [
    {
     "data": {
      "text/plain": [
       "61113"
      ]
     },
     "execution_count": 11,
     "metadata": {},
     "output_type": "execute_result"
    }
   ],
   "source": [
    "far_temps\n",
    "len(far_temps)\n",
    "len(weather_data)"
   ]
  },
  {
   "cell_type": "code",
   "execution_count": 12,
   "metadata": {},
   "outputs": [
    {
     "data": {
      "text/plain": [
       "list"
      ]
     },
     "execution_count": 12,
     "metadata": {},
     "output_type": "execute_result"
    }
   ],
   "source": [
    "type(far_temps)"
   ]
  },
  {
   "cell_type": "code",
   "execution_count": 13,
   "metadata": {},
   "outputs": [],
   "source": [
    "weather_data['real_temp'] = far_temps"
   ]
  },
  {
   "cell_type": "code",
   "execution_count": 14,
   "metadata": {},
   "outputs": [
    {
     "data": {
      "text/plain": [
       "['Date',\n",
       " 'city_id',\n",
       " 'temp',\n",
       " 'humidity',\n",
       " 'wind_speed',\n",
       " 'rain_1h',\n",
       " 'rain_3h',\n",
       " 'rain_today',\n",
       " 'snow_today',\n",
       " 'clouds_all',\n",
       " 'weather_description',\n",
       " 'real_temp']"
      ]
     },
     "execution_count": 14,
     "metadata": {},
     "output_type": "execute_result"
    }
   ],
   "source": [
    "list(weather_data)"
   ]
  },
  {
   "cell_type": "code",
   "execution_count": 15,
   "metadata": {},
   "outputs": [
    {
     "data": {
      "text/plain": [
       "0        29.984\n",
       "1        28.958\n",
       "2        28.472\n",
       "3        28.256\n",
       "4        27.824\n",
       "5        27.482\n",
       "6        26.294\n",
       "7        25.898\n",
       "8        26.636\n",
       "9        28.724\n",
       "10       29.480\n",
       "11       28.742\n",
       "12       28.868\n",
       "13       29.210\n",
       "14       30.182\n",
       "15       31.946\n",
       "16       34.196\n",
       "17       35.996\n",
       "18       37.904\n",
       "19       38.228\n",
       "20       37.616\n",
       "21       36.338\n",
       "22       36.230\n",
       "23       36.824\n",
       "24       36.698\n",
       "25       36.824\n",
       "26       37.184\n",
       "27       37.184\n",
       "28       37.292\n",
       "29       38.210\n",
       "          ...  \n",
       "61083    49.172\n",
       "61084    48.614\n",
       "61085    47.570\n",
       "61086    46.202\n",
       "61087    44.762\n",
       "61088    43.970\n",
       "61089    43.160\n",
       "61090    43.016\n",
       "61091    41.936\n",
       "61092    40.928\n",
       "61093    40.244\n",
       "61094    39.074\n",
       "61095    38.174\n",
       "61096    36.752\n",
       "61097    35.456\n",
       "61098    35.708\n",
       "61099    35.510\n",
       "61100    35.870\n",
       "61101    35.366\n",
       "61102    34.934\n",
       "61103    34.628\n",
       "61104    34.682\n",
       "61105    36.068\n",
       "61106    36.770\n",
       "61107    37.688\n",
       "61108    38.480\n",
       "61109    38.498\n",
       "61110    38.426\n",
       "61111    38.012\n",
       "61112    38.048\n",
       "Name: real_temp, Length: 61113, dtype: float64"
      ]
     },
     "execution_count": 15,
     "metadata": {},
     "output_type": "execute_result"
    }
   ],
   "source": [
    "weather_data['real_temp']"
   ]
  },
  {
   "cell_type": "code",
   "execution_count": null,
   "metadata": {},
   "outputs": [],
   "source": [
    "weather_data.head(100)"
   ]
  },
  {
   "cell_type": "code",
   "execution_count": null,
   "metadata": {},
   "outputs": [],
   "source": [
    "#model_data = weather_data[[\"dt_iso\", \"real_temp\", \"weather_main\", \"weather_description\"]]"
   ]
  },
  {
   "cell_type": "code",
   "execution_count": null,
   "metadata": {},
   "outputs": [],
   "source": [
    "#model_data"
   ]
  },
  {
   "cell_type": "code",
   "execution_count": 16,
   "metadata": {},
   "outputs": [],
   "source": [
    "weather_data.to_csv(\"weather_data.csv\")"
   ]
  },
  {
   "cell_type": "code",
   "execution_count": null,
   "metadata": {},
   "outputs": [],
   "source": []
  },
  {
   "cell_type": "code",
   "execution_count": null,
   "metadata": {},
   "outputs": [],
   "source": []
  },
  {
   "cell_type": "code",
   "execution_count": null,
   "metadata": {},
   "outputs": [],
   "source": []
  },
  {
   "cell_type": "code",
   "execution_count": null,
   "metadata": {},
   "outputs": [],
   "source": []
  }
 ],
 "metadata": {
  "kernelspec": {
   "display_name": "Python 3",
   "language": "python",
   "name": "python3"
  },
  "language_info": {
   "codemirror_mode": {
    "name": "ipython",
    "version": 3
   },
   "file_extension": ".py",
   "mimetype": "text/x-python",
   "name": "python",
   "nbconvert_exporter": "python",
   "pygments_lexer": "ipython3",
   "version": "3.6.4"
  }
 },
 "nbformat": 4,
 "nbformat_minor": 2
}
