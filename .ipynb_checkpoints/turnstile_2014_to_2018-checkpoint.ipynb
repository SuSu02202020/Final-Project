{
 "cells": [
  {
   "cell_type": "markdown",
   "metadata": {},
   "source": [
    "# Reading multiple csv files with Spark\n"
   ]
  },
  {
   "cell_type": "code",
   "execution_count": 1,
   "metadata": {},
   "outputs": [],
   "source": [
    "# Import our SparkSession so we can use it\n",
    "from pyspark.sql import SparkSession\n",
    "# Create our SparkSession, this can take a couple minutes locally\n",
    "spark = SparkSession.builder.appName(\"basics\").getOrCreate()"
   ]
  },
  {
   "cell_type": "code",
   "execution_count": 11,
   "metadata": {},
   "outputs": [
    {
     "name": "stdout",
     "output_type": "stream",
     "text": [
      "+----+----+--------+--------------+---------+--------+----------+--------+-----------+--------+----------------------------------------------------------+\n",
      "| C/A|Unit|     SCP|       Station|Line Name|Division|      Date|    Time|Description| Entries|Exits                                                     |\n",
      "+----+----+--------+--------------+---------+--------+----------+--------+-----------+--------+----------------------------------------------------------+\n",
      "|A033|R170|02-00-00|14 ST-UNION SQ| LNQR456W|     BMT|12/28/2018|00:00:00|    REGULAR| 2056268|                                                   5177036|\n",
      "|A033|R170|02-06-01|14 ST-UNION SQ| LNQR456W|     BMT|12/28/2018|00:00:00|    REGULAR|70294362|                                                  20274025|\n",
      "|A033|R170|02-00-02|14 ST-UNION SQ| LNQR456W|     BMT|12/28/2018|00:00:00|    REGULAR|14197229|                                                  13704110|\n",
      "|A033|R170|02-00-01|14 ST-UNION SQ| LNQR456W|     BMT|12/28/2018|00:00:00|    REGULAR| 1806541|                                                   2182381|\n",
      "|A033|R170|02-00-05|14 ST-UNION SQ| LNQR456W|     BMT|12/28/2018|00:00:00|    REGULAR|15598097|                                                   6250334|\n",
      "|A033|R170|02-00-03|14 ST-UNION SQ| LNQR456W|     BMT|12/28/2018|00:00:00|    REGULAR| 6069026|                                                   7074661|\n",
      "|A033|R170|02-00-04|14 ST-UNION SQ| LNQR456W|     BMT|12/28/2018|00:00:00|    REGULAR| 4927946|                                                   3748371|\n",
      "|A033|R170|02-00-01|14 ST-UNION SQ| LNQR456W|     BMT|12/28/2018|00:00:00|    REGULAR| 1806541|                                                   2182381|\n",
      "|A033|R170|02-06-00|14 ST-UNION SQ| LNQR456W|     BMT|12/28/2018|00:00:00|    REGULAR|  694109|                                                    207786|\n",
      "|A033|R170|02-06-01|14 ST-UNION SQ| LNQR456W|     BMT|12/28/2018|00:00:00|    REGULAR|70294362|                                                  20274025|\n",
      "|A033|R170|02-00-00|14 ST-UNION SQ| LNQR456W|     BMT|12/28/2018|00:00:00|    REGULAR| 2056268|                                                   5177036|\n",
      "|A033|R170|02-00-04|14 ST-UNION SQ| LNQR456W|     BMT|12/28/2018|00:00:00|    REGULAR| 4927946|                                                   3748371|\n",
      "|A033|R170|02-00-03|14 ST-UNION SQ| LNQR456W|     BMT|12/28/2018|00:00:00|    REGULAR| 6069026|                                                   7074661|\n",
      "|A033|R170|02-06-00|14 ST-UNION SQ| LNQR456W|     BMT|12/28/2018|00:00:00|    REGULAR|  694109|                                                    207786|\n",
      "|A033|R170|02-00-02|14 ST-UNION SQ| LNQR456W|     BMT|12/28/2018|00:00:00|    REGULAR|14197229|                                                  13704110|\n",
      "|A033|R170|02-00-05|14 ST-UNION SQ| LNQR456W|     BMT|12/28/2018|00:00:00|    REGULAR|15598097|                                                   6250334|\n",
      "|A034|R170|03-00-00|14 ST-UNION SQ| LNQR456W|     BMT|12/28/2018|00:00:00|    REGULAR| 1923632|                                                  14843362|\n",
      "|A034|R170|03-00-02|14 ST-UNION SQ| LNQR456W|     BMT|12/28/2018|00:00:00|    REGULAR| 3687618|                                                   2644410|\n",
      "|A034|R170|03-00-00|14 ST-UNION SQ| LNQR456W|     BMT|12/28/2018|00:00:00|    REGULAR| 1923632|                                                  14843362|\n",
      "|A034|R170|03-06-00|14 ST-UNION SQ| LNQR456W|     BMT|12/28/2018|00:00:00|    REGULAR|68007701|                                                  17207000|\n",
      "+----+----+--------+--------------+---------+--------+----------+--------+-----------+--------+----------------------------------------------------------+\n",
      "only showing top 20 rows\n",
      "\n"
     ]
    }
   ],
   "source": [
    "# Load in data\n",
    "from pyspark import SparkFiles #same\n",
    "url = \"Resources/Turnstile_data/*.csv\"\n",
    "df = spark.read.csv(url, header=True, mode=\"DROPMALFORMED\")\n",
    "\n",
    "df.show() "
   ]
  },
  {
   "cell_type": "code",
   "execution_count": 12,
   "metadata": {},
   "outputs": [
    {
     "name": "stdout",
     "output_type": "stream",
     "text": [
      "root\n",
      " |-- C/A: string (nullable = true)\n",
      " |-- Unit: string (nullable = true)\n",
      " |-- SCP: string (nullable = true)\n",
      " |-- Station: string (nullable = true)\n",
      " |-- Line Name: string (nullable = true)\n",
      " |-- Division: string (nullable = true)\n",
      " |-- Date: string (nullable = true)\n",
      " |-- Time: string (nullable = true)\n",
      " |-- Description: string (nullable = true)\n",
      " |-- Entries: string (nullable = true)\n",
      " |-- Exits                                                     : string (nullable = true)\n",
      "\n"
     ]
    }
   ],
   "source": [
    "# Print our schema\n",
    "df.printSchema()"
   ]
  },
  {
   "cell_type": "code",
   "execution_count": 13,
   "metadata": {},
   "outputs": [
    {
     "data": {
      "text/plain": [
       "['C/A',\n",
       " 'Unit',\n",
       " 'SCP',\n",
       " 'Station',\n",
       " 'Line Name',\n",
       " 'Division',\n",
       " 'Date',\n",
       " 'Time',\n",
       " 'Description',\n",
       " 'Entries',\n",
       " 'Exits                                                     ']"
      ]
     },
     "execution_count": 13,
     "metadata": {},
     "output_type": "execute_result"
    }
   ],
   "source": [
    "# Show the columns\n",
    "df.columns"
   ]
  },
  {
   "cell_type": "code",
   "execution_count": 14,
   "metadata": {},
   "outputs": [
    {
     "name": "stdout",
     "output_type": "stream",
     "text": [
      "+----------+--------+\n",
      "|      Date| Entries|\n",
      "+----------+--------+\n",
      "|12/28/2018| 2056268|\n",
      "|12/28/2018|70294362|\n",
      "|12/28/2018|14197229|\n",
      "|12/28/2018| 1806541|\n",
      "|12/28/2018|15598097|\n",
      "|12/28/2018| 6069026|\n",
      "|12/28/2018| 4927946|\n",
      "|12/28/2018| 1806541|\n",
      "|12/28/2018|  694109|\n",
      "|12/28/2018|70294362|\n",
      "|12/28/2018| 2056268|\n",
      "|12/28/2018| 4927946|\n",
      "|12/28/2018| 6069026|\n",
      "|12/28/2018|  694109|\n",
      "|12/28/2018|14197229|\n",
      "|12/28/2018|15598097|\n",
      "|12/28/2018| 1923632|\n",
      "|12/28/2018| 3687618|\n",
      "|12/28/2018| 1923632|\n",
      "|12/28/2018|68007701|\n",
      "+----------+--------+\n",
      "only showing top 20 rows\n",
      "\n"
     ]
    }
   ],
   "source": [
    "df.select('Date', 'Entries').show()"
   ]
  },
  {
   "cell_type": "code",
   "execution_count": 16,
   "metadata": {},
   "outputs": [
    {
     "name": "stdout",
     "output_type": "stream",
     "text": [
      "+----------+----------------------------------------------------------+\n",
      "|      Date|Exits                                                     |\n",
      "+----------+----------------------------------------------------------+\n",
      "|12/28/2018|                                                   5177036|\n",
      "|12/28/2018|                                                  20274025|\n",
      "|12/28/2018|                                                  13704110|\n",
      "|12/28/2018|                                                   2182381|\n",
      "|12/28/2018|                                                   6250334|\n",
      "|12/28/2018|                                                   7074661|\n",
      "|12/28/2018|                                                   3748371|\n",
      "|12/28/2018|                                                   2182381|\n",
      "|12/28/2018|                                                    207786|\n",
      "|12/28/2018|                                                  20274025|\n",
      "|12/28/2018|                                                   5177036|\n",
      "|12/28/2018|                                                   3748371|\n",
      "|12/28/2018|                                                   7074661|\n",
      "|12/28/2018|                                                    207786|\n",
      "|12/28/2018|                                                  13704110|\n",
      "|12/28/2018|                                                   6250334|\n",
      "|12/28/2018|                                                  14843362|\n",
      "|12/28/2018|                                                   2644410|\n",
      "|12/28/2018|                                                  14843362|\n",
      "|12/28/2018|                                                  17207000|\n",
      "+----------+----------------------------------------------------------+\n",
      "only showing top 20 rows\n",
      "\n"
     ]
    }
   ],
   "source": [
    "df.select(\"Date\", 'Exits                                                     ').show()"
   ]
  },
  {
   "cell_type": "code",
   "execution_count": null,
   "metadata": {},
   "outputs": [],
   "source": [
    "#df.orderBy(df[\"Entries\"].desc()).show(20)\n"
   ]
  },
  {
   "cell_type": "code",
   "execution_count": 17,
   "metadata": {},
   "outputs": [
    {
     "data": {
      "text/plain": [
       "49230245"
      ]
     },
     "execution_count": 17,
     "metadata": {},
     "output_type": "execute_result"
    }
   ],
   "source": [
    "df.count()"
   ]
  },
  {
   "cell_type": "code",
   "execution_count": 18,
   "metadata": {},
   "outputs": [],
   "source": [
    "import pandas as pd\n",
    "import numpy as np\n",
    "\n",
    "import datetime as dt\n",
    "import re\n",
    "import time\n",
    "\n",
    "import matplotlib.pyplot as plt\n",
    "\n",
    "import seaborn as sns\n"
   ]
  },
  {
   "cell_type": "code",
   "execution_count": null,
   "metadata": {},
   "outputs": [],
   "source": [
    "#df.select(\"Description\").distinct().show()"
   ]
  },
  {
   "cell_type": "code",
   "execution_count": null,
   "metadata": {},
   "outputs": [],
   "source": [
    "#grouped_turnstile = df.groupBy(\"Station\").agg({'Entries': 'mean'}).collect()\n",
    "#grouped_turnstile\n",
    "\n",
    "# review = grouped_yelp.sort_values(“review_count”, ascending=False)\n",
    "# df_1 = review[‘Categories’].iloc[0:10]\n",
    "# df_2 = review[‘review_count’].iloc[0:10]\n",
    "\n",
    "# #Create a pie chart for top 10 categories\n",
    "# plt.figure(1, figsize=(35,25))\n",
    "# the_grid = GridSpec(2, 2)\n",
    "# explode = (0.1, 0, 0, 0, 0, 0, 0, 0, 0, 0)\n",
    "# cmap = plt.get_cmap(‘Spectral’)\n",
    "# colors = [cmap(i) for i in np.linspace(0, 1, 10)]\n",
    "# plt.subplot(the_grid[0, 0], aspect=1)\n",
    "# plt.title(‘Top 10 Categories with highest Review Count’, fontsize=20)\n",
    "# pie = plt.pie(df_2,labels=df_1, autopct=‘%.0f%%’, shadow=True, colors=colors, explode=explode, textprops={‘fontsize’: 14})\n",
    "\n",
    "# #Create a legend\n",
    "# plt.legend(df_1,\n",
    "#          title=“Categories”,\n",
    "#          loc=“center left”,\n",
    "#          bbox_to_anchor=(1.2, 0.2, 0, 1))"
   ]
  },
  {
   "cell_type": "code",
   "execution_count": null,
   "metadata": {},
   "outputs": [],
   "source": [
    "#df.rdd.map(lambda row : row).take(10)"
   ]
  },
  {
   "cell_type": "code",
   "execution_count": null,
   "metadata": {
    "scrolled": true
   },
   "outputs": [],
   "source": [
    "# from pyspark.sql.types import DoubleType\n",
    "\n",
    "# type_df = df.withColumn(\"Entries\", df[\"Entries\"].cast(DoubleType()))\n",
    "# type_df\n"
   ]
  },
  {
   "cell_type": "code",
   "execution_count": null,
   "metadata": {},
   "outputs": [],
   "source": [
    "# from pyspark.sql.functions import avg\n",
    "# display(type_df.groupBy(\"Station\").avg(\"Entries\").orderBy(\"Station\"))"
   ]
  },
  {
   "cell_type": "code",
   "execution_count": 19,
   "metadata": {},
   "outputs": [
    {
     "name": "stdout",
     "output_type": "stream",
     "text": [
      "+----+----+--------+---------------+-----------+--------+----------+--------+-----------+-------+----------------------------------------------------------+\n",
      "| C/A|Unit|     SCP|        Station|  Line Name|Division|      Date|    Time|Description|Entries|Exits                                                     |\n",
      "+----+----+--------+---------------+-----------+--------+----------+--------+-----------+-------+----------------------------------------------------------+\n",
      "|R626|R062|00-00-00|CROWN HTS-UTICA|         34|     IRT|06/17/2014|08:00:00|    REGULAR|9999999|                                                   2242502|\n",
      "|B019|R149|00-00-02|  NEWKIRK PLAZA|         BQ|     BMT|01/22/2018|20:00:00|    REGULAR|9999997|                                                  11600216|\n",
      "|R248|R178|00-00-07|          77 ST|          6|     IRT|11/29/2017|16:00:00|    REGULAR|9999996|                                                   1413693|\n",
      "|A025|R023|01-00-02|34 ST-HERALD SQ|    BDFMNQR|     BMT|02/05/2016|07:00:00|    REGULAR|9999995|                                                   2595828|\n",
      "|H007|R248|00-00-00|          1 AVE|          L|     BMT|08/08/2015|00:00:00|    REGULAR|9999995|                                                  10879540|\n",
      "|H027|R137|01-00-00| MYRTLE-WYCKOFF|         LM|     BMT|01/31/2018|11:00:00|    REGULAR|9999995|                                                   5496149|\n",
      "|J009|R378|00-00-02|     MYRTLE AVE|        JMZ|     BMT|01/19/2015|20:00:00|    REGULAR|9999994|                                                   5718084|\n",
      "|R101|R001|02-00-02|    SOUTH FERRY|         1R|     IRT|07/22/2014|09:00:00|    REGULAR|9999990|                                                   7736897|\n",
      "|N092|R029|03-00-04|    CHAMBERS ST|      ACE23|     IND|12/07/2016|07:00:00|    REGULAR|9999990|                                                   4776106|\n",
      "|R143|R032|02-03-03| TIMES SQ-42 ST|1237ACENQRS|     IRT|06/29/2016|04:00:00|    REGULAR| 999999|                                                    226796|\n",
      "+----+----+--------+---------------+-----------+--------+----------+--------+-----------+-------+----------------------------------------------------------+\n",
      "\n"
     ]
    }
   ],
   "source": [
    "df2 = df.sort(\"Entries\", ascending=False).limit(10)\n",
    "df2.show()"
   ]
  },
  {
   "cell_type": "code",
   "execution_count": 21,
   "metadata": {},
   "outputs": [
    {
     "data": {
      "text/html": [
       "<div>\n",
       "<style scoped>\n",
       "    .dataframe tbody tr th:only-of-type {\n",
       "        vertical-align: middle;\n",
       "    }\n",
       "\n",
       "    .dataframe tbody tr th {\n",
       "        vertical-align: top;\n",
       "    }\n",
       "\n",
       "    .dataframe thead th {\n",
       "        text-align: right;\n",
       "    }\n",
       "</style>\n",
       "<table border=\"1\" class=\"dataframe\">\n",
       "  <thead>\n",
       "    <tr style=\"text-align: right;\">\n",
       "      <th></th>\n",
       "      <th>C/A</th>\n",
       "      <th>Unit</th>\n",
       "      <th>SCP</th>\n",
       "      <th>Station</th>\n",
       "      <th>Line Name</th>\n",
       "      <th>Division</th>\n",
       "      <th>Date</th>\n",
       "      <th>Time</th>\n",
       "      <th>Description</th>\n",
       "      <th>Entries</th>\n",
       "      <th>Exits</th>\n",
       "    </tr>\n",
       "  </thead>\n",
       "  <tbody>\n",
       "    <tr>\n",
       "      <th>0</th>\n",
       "      <td>R626</td>\n",
       "      <td>R062</td>\n",
       "      <td>00-00-00</td>\n",
       "      <td>CROWN HTS-UTICA</td>\n",
       "      <td>34</td>\n",
       "      <td>IRT</td>\n",
       "      <td>06/17/2014</td>\n",
       "      <td>08:00:00</td>\n",
       "      <td>REGULAR</td>\n",
       "      <td>9999999</td>\n",
       "      <td>2242502</td>\n",
       "    </tr>\n",
       "    <tr>\n",
       "      <th>1</th>\n",
       "      <td>B019</td>\n",
       "      <td>R149</td>\n",
       "      <td>00-00-02</td>\n",
       "      <td>NEWKIRK PLAZA</td>\n",
       "      <td>BQ</td>\n",
       "      <td>BMT</td>\n",
       "      <td>01/22/2018</td>\n",
       "      <td>20:00:00</td>\n",
       "      <td>REGULAR</td>\n",
       "      <td>9999997</td>\n",
       "      <td>11600216</td>\n",
       "    </tr>\n",
       "    <tr>\n",
       "      <th>2</th>\n",
       "      <td>R248</td>\n",
       "      <td>R178</td>\n",
       "      <td>00-00-07</td>\n",
       "      <td>77 ST</td>\n",
       "      <td>6</td>\n",
       "      <td>IRT</td>\n",
       "      <td>11/29/2017</td>\n",
       "      <td>16:00:00</td>\n",
       "      <td>REGULAR</td>\n",
       "      <td>9999996</td>\n",
       "      <td>1413693</td>\n",
       "    </tr>\n",
       "    <tr>\n",
       "      <th>3</th>\n",
       "      <td>H027</td>\n",
       "      <td>R137</td>\n",
       "      <td>01-00-00</td>\n",
       "      <td>MYRTLE-WYCKOFF</td>\n",
       "      <td>LM</td>\n",
       "      <td>BMT</td>\n",
       "      <td>01/31/2018</td>\n",
       "      <td>11:00:00</td>\n",
       "      <td>REGULAR</td>\n",
       "      <td>9999995</td>\n",
       "      <td>5496149</td>\n",
       "    </tr>\n",
       "    <tr>\n",
       "      <th>4</th>\n",
       "      <td>A025</td>\n",
       "      <td>R023</td>\n",
       "      <td>01-00-02</td>\n",
       "      <td>34 ST-HERALD SQ</td>\n",
       "      <td>BDFMNQR</td>\n",
       "      <td>BMT</td>\n",
       "      <td>02/05/2016</td>\n",
       "      <td>07:00:00</td>\n",
       "      <td>REGULAR</td>\n",
       "      <td>9999995</td>\n",
       "      <td>2595828</td>\n",
       "    </tr>\n",
       "    <tr>\n",
       "      <th>5</th>\n",
       "      <td>H007</td>\n",
       "      <td>R248</td>\n",
       "      <td>00-00-00</td>\n",
       "      <td>1 AVE</td>\n",
       "      <td>L</td>\n",
       "      <td>BMT</td>\n",
       "      <td>08/08/2015</td>\n",
       "      <td>00:00:00</td>\n",
       "      <td>REGULAR</td>\n",
       "      <td>9999995</td>\n",
       "      <td>10879540</td>\n",
       "    </tr>\n",
       "    <tr>\n",
       "      <th>6</th>\n",
       "      <td>J009</td>\n",
       "      <td>R378</td>\n",
       "      <td>00-00-02</td>\n",
       "      <td>MYRTLE AVE</td>\n",
       "      <td>JMZ</td>\n",
       "      <td>BMT</td>\n",
       "      <td>01/19/2015</td>\n",
       "      <td>20:00:00</td>\n",
       "      <td>REGULAR</td>\n",
       "      <td>9999994</td>\n",
       "      <td>5718084</td>\n",
       "    </tr>\n",
       "    <tr>\n",
       "      <th>7</th>\n",
       "      <td>R101</td>\n",
       "      <td>R001</td>\n",
       "      <td>02-00-02</td>\n",
       "      <td>SOUTH FERRY</td>\n",
       "      <td>1R</td>\n",
       "      <td>IRT</td>\n",
       "      <td>07/22/2014</td>\n",
       "      <td>09:00:00</td>\n",
       "      <td>REGULAR</td>\n",
       "      <td>9999990</td>\n",
       "      <td>7736897</td>\n",
       "    </tr>\n",
       "    <tr>\n",
       "      <th>8</th>\n",
       "      <td>N092</td>\n",
       "      <td>R029</td>\n",
       "      <td>03-00-04</td>\n",
       "      <td>CHAMBERS ST</td>\n",
       "      <td>ACE23</td>\n",
       "      <td>IND</td>\n",
       "      <td>12/07/2016</td>\n",
       "      <td>07:00:00</td>\n",
       "      <td>REGULAR</td>\n",
       "      <td>9999990</td>\n",
       "      <td>4776106</td>\n",
       "    </tr>\n",
       "    <tr>\n",
       "      <th>9</th>\n",
       "      <td>R143</td>\n",
       "      <td>R032</td>\n",
       "      <td>02-03-03</td>\n",
       "      <td>TIMES SQ-42 ST</td>\n",
       "      <td>1237ACENQRS</td>\n",
       "      <td>IRT</td>\n",
       "      <td>06/29/2016</td>\n",
       "      <td>04:00:00</td>\n",
       "      <td>REGULAR</td>\n",
       "      <td>999999</td>\n",
       "      <td>226796</td>\n",
       "    </tr>\n",
       "  </tbody>\n",
       "</table>\n",
       "</div>"
      ],
      "text/plain": [
       "    C/A  Unit       SCP          Station    Line Name Division        Date  \\\n",
       "0  R626  R062  00-00-00  CROWN HTS-UTICA           34      IRT  06/17/2014   \n",
       "1  B019  R149  00-00-02    NEWKIRK PLAZA           BQ      BMT  01/22/2018   \n",
       "2  R248  R178  00-00-07            77 ST            6      IRT  11/29/2017   \n",
       "3  H027  R137  01-00-00   MYRTLE-WYCKOFF           LM      BMT  01/31/2018   \n",
       "4  A025  R023  01-00-02  34 ST-HERALD SQ      BDFMNQR      BMT  02/05/2016   \n",
       "5  H007  R248  00-00-00            1 AVE            L      BMT  08/08/2015   \n",
       "6  J009  R378  00-00-02       MYRTLE AVE          JMZ      BMT  01/19/2015   \n",
       "7  R101  R001  02-00-02      SOUTH FERRY           1R      IRT  07/22/2014   \n",
       "8  N092  R029  03-00-04      CHAMBERS ST        ACE23      IND  12/07/2016   \n",
       "9  R143  R032  02-03-03   TIMES SQ-42 ST  1237ACENQRS      IRT  06/29/2016   \n",
       "\n",
       "       Time Description  Entries  \\\n",
       "0  08:00:00     REGULAR  9999999   \n",
       "1  20:00:00     REGULAR  9999997   \n",
       "2  16:00:00     REGULAR  9999996   \n",
       "3  11:00:00     REGULAR  9999995   \n",
       "4  07:00:00     REGULAR  9999995   \n",
       "5  00:00:00     REGULAR  9999995   \n",
       "6  20:00:00     REGULAR  9999994   \n",
       "7  09:00:00     REGULAR  9999990   \n",
       "8  07:00:00     REGULAR  9999990   \n",
       "9  04:00:00     REGULAR   999999   \n",
       "\n",
       "  Exits                                                       \n",
       "0                                            2242502          \n",
       "1                                           11600216          \n",
       "2                                            1413693          \n",
       "3                                            5496149          \n",
       "4                                            2595828          \n",
       "5                                           10879540          \n",
       "6                                            5718084          \n",
       "7                                            7736897          \n",
       "8                                            4776106          \n",
       "9                                             226796          "
      ]
     },
     "execution_count": 21,
     "metadata": {},
     "output_type": "execute_result"
    }
   ],
   "source": [
    "pandas_df = df2.toPandas()\n",
    "pandas_df"
   ]
  },
  {
   "cell_type": "code",
   "execution_count": 22,
   "metadata": {},
   "outputs": [
    {
     "data": {
      "image/png": "[encoded data removed]",
      "text/plain": [
       "<Figure size 2520x1800 with 1 Axes>"
      ]
     },
     "metadata": {},
     "output_type": "display_data"
    }
   ],
   "source": [
    "import matplotlib.gridspec as gridspec\n",
    "# Pie chart, where the slices will be ordered and plotted counter-clockwise:\n",
    "\n",
    "df_1 = pandas_df[\"Station\"]\n",
    "df_2 = pandas_df[\"Entries\"]\n",
    "\n",
    "#Create a pie chart for top 10 categories\n",
    "plt.figure(1, figsize=(35,25))\n",
    "the_grid = gridspec.GridSpec(2, 2)\n",
    "explode = (0.1, 0, 0, 0, 0, 0, 0, 0, 0, 0)\n",
    "cmap = plt.get_cmap(\"Spectral\")\n",
    "colors = [cmap(i) for i in np.linspace(0, 1, 10)]\n",
    "plt.subplot(the_grid[0, 0], aspect=1)\n",
    "plt.title(\"Top 10 Subway Stations with highest Entries\", fontsize=20)\n",
    "pie = plt.pie(df_2,labels=df_1, autopct=\"%.0f%%\", shadow=True, colors=colors, explode=explode, textprops={\"fontsize\": 14})\n",
    "\n",
    "#Create a legend\n",
    "plt.legend(df_1,\n",
    "         title= \"Stations\",\n",
    "         loc= \"center left\",\n",
    "         bbox_to_anchor=(1.2, 0.2, 0, 1))\n",
    "plt.show()"
   ]
  },
  {
   "cell_type": "code",
   "execution_count": 20,
   "metadata": {},
   "outputs": [
    {
     "name": "stdout",
     "output_type": "stream",
     "text": [
      "+----+----+--------+---------------+---------+--------+----------+--------+-----------+--------+----------------------------------------------------------+\n",
      "| C/A|Unit|     SCP|        Station|Line Name|Division|      Date|    Time|Description| Entries|Exits                                                     |\n",
      "+----+----+--------+---------------+---------+--------+----------+--------+-----------+--------+----------------------------------------------------------+\n",
      "|N187|R419|00-00-02|ROCKAWAY PARK B|       AS|     IND|11/11/2016|12:00:00|    REGULAR| 3425669|                                                   9999999|\n",
      "|N078|R175|01-03-00|          14 ST|     ACEL|     IND|04/30/2014|05:00:00|    REGULAR| 6983382|                                                   9999998|\n",
      "|N067|R012|00-00-04| 34 ST-PENN STA|      ACE|     IND|10/13/2018|00:00:00|    REGULAR|10362795|                                                   9999996|\n",
      "|E012|R372|00-00-00|         18 AVE|        D|     BMT|09/09/2014|00:00:00|    REGULAR|10521524|                                                   9999994|\n",
      "|N505|R022|02-00-08|34 ST-HERALD SQ| BDFMNQRW|     IND|09/26/2018|16:00:00|    REGULAR|11617966|                                                   9999994|\n",
      "|R422|R428|00-00-01|      BUHRE AVE|        6|     IRT|05/11/2014|09:00:00|    REGULAR| 2120692|                                                    999999|\n",
      "|N605|R024|00-00-06| SUTPHIN-ARCHER|      EJZ|     IND|05/05/2016|00:00:00|    REGULAR| 2771425|                                                    999999|\n",
      "|R612|R057|01-03-02| ATL AV-BARCLAY|BDNQR2345|     IRT|06/21/2018|20:00:00|    REGULAR| 1021968|                                                    999999|\n",
      "|R402|R446|00-00-02|       BROOK AV|        6|     IRT|06/02/2016|09:00:00|    REGULAR| 4441478|                                                    999999|\n",
      "|B015|R098|01-06-00|     CHURCH AVE|       BQ|     BMT|06/09/2015|00:00:00|    REGULAR|  204799|                                                    999999|\n",
      "+----+----+--------+---------------+---------+--------+----------+--------+-----------+--------+----------------------------------------------------------+\n",
      "\n"
     ]
    }
   ],
   "source": [
    "df3 = df.sort('Exits                                                     ', ascending=False).limit(10)\n",
    "df3.show()"
   ]
  },
  {
   "cell_type": "code",
   "execution_count": null,
   "metadata": {},
   "outputs": [],
   "source": [
    "pandas_df_exits = df3.toPandas()\n",
    "pandas_df_exits"
   ]
  },
  {
   "cell_type": "code",
   "execution_count": null,
   "metadata": {},
   "outputs": [],
   "source": [
    "df_1_exits = pandas_df_exits[\"Station\"]\n",
    "df_2_exits = pandas_df_exits[\"Exits\"]\n",
    "\n",
    "#Create a pie chart for top 10 categories\n",
    "plt.figure(1, figsize=(35,25))\n",
    "the_grid = gridspec.GridSpec(2, 2)\n",
    "explode = (0.1, 0, 0, 0, 0, 0, 0, 0, 0, 0)\n",
    "cmap = plt.get_cmap(\"Spectral\")\n",
    "colors = [cmap(i) for i in np.linspace(0, 1, 10)]\n",
    "plt.subplot(the_grid[0, 0], aspect=1)\n",
    "plt.title(\"Top 10 Subway Stations with highest Exits\", fontsize=20)\n",
    "pie = plt.pie(df_2_exits,labels = df_1_exits, autopct=\"%.0f%%\", shadow=True, colors=colors, explode=explode, textprops={\"fontsize\": 14})\n",
    "\n",
    "#Create a legend\n",
    "plt.legend(df_1,\n",
    "         title= \"Stations\",\n",
    "         loc= \"center left\",\n",
    "         bbox_to_anchor=(1.2, 0.2, 0, 1))\n",
    "plt.show()"
   ]
  },
  {
   "cell_type": "code",
   "execution_count": null,
   "metadata": {},
   "outputs": [],
   "source": []
  },
  {
   "cell_type": "code",
   "execution_count": null,
   "metadata": {},
   "outputs": [],
   "source": []
  }
 ],
 "metadata": {
  "kernelspec": {
   "display_name": "Python 3",
   "language": "python",
   "name": "python3"
  },
  "language_info": {
   "codemirror_mode": {
    "name": "ipython",
    "version": 3
   },
   "file_extension": ".py",
   "mimetype": "text/x-python",
   "name": "python",
   "nbconvert_exporter": "python",
   "pygments_lexer": "ipython3",
   "version": "3.6.5"
  }
 },
 "nbformat": 4,
 "nbformat_minor": 2
}
