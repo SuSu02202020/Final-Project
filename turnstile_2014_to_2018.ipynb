{
 "cells": [
  {
   "cell_type": "markdown",
   "metadata": {},
   "source": [
    "# Reading multiple csv files with Spark\n"
   ]
  },
  {
   "cell_type": "code",
   "execution_count": 1,
   "metadata": {},
   "outputs": [],
   "source": [
    "# Import our SparkSession so we can use it\n",
    "from pyspark.sql import SparkSession\n",
    "# Create our SparkSession, this can take a couple minutes locally\n",
    "spark = SparkSession.builder.appName(\"basics\").getOrCreate()"
   ]
  },
  {
   "cell_type": "code",
   "execution_count": 2,
   "metadata": {},
   "outputs": [
    {
     "name": "stdout",
     "output_type": "stream",
     "text": [
      "+----+----+--------+--------------+---------+--------+----------+--------+-----------+--------+----------------------------------------------------------+\n",
      "| C/A|Unit|     SCP|       Station|Line Name|Division|      Date|    Time|Description| Entries|Exits                                                     |\n",
      "+----+----+--------+--------------+---------+--------+----------+--------+-----------+--------+----------------------------------------------------------+\n",
      "|A033|R170|02-00-00|14 ST-UNION SQ| LNQR456W|     BMT|12/28/2018|00:00:00|    REGULAR| 2056268|                                                   5177036|\n",
      "|A033|R170|02-06-01|14 ST-UNION SQ| LNQR456W|     BMT|12/28/2018|00:00:00|    REGULAR|70294362|                                                  20274025|\n",
      "|A033|R170|02-00-02|14 ST-UNION SQ| LNQR456W|     BMT|12/28/2018|00:00:00|    REGULAR|14197229|                                                  13704110|\n",
      "|A033|R170|02-00-01|14 ST-UNION SQ| LNQR456W|     BMT|12/28/2018|00:00:00|    REGULAR| 1806541|                                                   2182381|\n",
      "|A033|R170|02-00-05|14 ST-UNION SQ| LNQR456W|     BMT|12/28/2018|00:00:00|    REGULAR|15598097|                                                   6250334|\n",
      "|A033|R170|02-00-03|14 ST-UNION SQ| LNQR456W|     BMT|12/28/2018|00:00:00|    REGULAR| 6069026|                                                   7074661|\n",
      "|A033|R170|02-00-04|14 ST-UNION SQ| LNQR456W|     BMT|12/28/2018|00:00:00|    REGULAR| 4927946|                                                   3748371|\n",
      "|A033|R170|02-00-01|14 ST-UNION SQ| LNQR456W|     BMT|12/28/2018|00:00:00|    REGULAR| 1806541|                                                   2182381|\n",
      "|A033|R170|02-06-00|14 ST-UNION SQ| LNQR456W|     BMT|12/28/2018|00:00:00|    REGULAR|  694109|                                                    207786|\n",
      "|A033|R170|02-06-01|14 ST-UNION SQ| LNQR456W|     BMT|12/28/2018|00:00:00|    REGULAR|70294362|                                                  20274025|\n",
      "|A033|R170|02-00-00|14 ST-UNION SQ| LNQR456W|     BMT|12/28/2018|00:00:00|    REGULAR| 2056268|                                                   5177036|\n",
      "|A033|R170|02-00-04|14 ST-UNION SQ| LNQR456W|     BMT|12/28/2018|00:00:00|    REGULAR| 4927946|                                                   3748371|\n",
      "|A033|R170|02-00-03|14 ST-UNION SQ| LNQR456W|     BMT|12/28/2018|00:00:00|    REGULAR| 6069026|                                                   7074661|\n",
      "|A033|R170|02-06-00|14 ST-UNION SQ| LNQR456W|     BMT|12/28/2018|00:00:00|    REGULAR|  694109|                                                    207786|\n",
      "|A033|R170|02-00-02|14 ST-UNION SQ| LNQR456W|     BMT|12/28/2018|00:00:00|    REGULAR|14197229|                                                  13704110|\n",
      "|A033|R170|02-00-05|14 ST-UNION SQ| LNQR456W|     BMT|12/28/2018|00:00:00|    REGULAR|15598097|                                                   6250334|\n",
      "|A034|R170|03-00-00|14 ST-UNION SQ| LNQR456W|     BMT|12/28/2018|00:00:00|    REGULAR| 1923632|                                                  14843362|\n",
      "|A034|R170|03-00-02|14 ST-UNION SQ| LNQR456W|     BMT|12/28/2018|00:00:00|    REGULAR| 3687618|                                                   2644410|\n",
      "|A034|R170|03-00-00|14 ST-UNION SQ| LNQR456W|     BMT|12/28/2018|00:00:00|    REGULAR| 1923632|                                                  14843362|\n",
      "|A034|R170|03-06-00|14 ST-UNION SQ| LNQR456W|     BMT|12/28/2018|00:00:00|    REGULAR|68007701|                                                  17207000|\n",
      "+----+----+--------+--------------+---------+--------+----------+--------+-----------+--------+----------------------------------------------------------+\n",
      "only showing top 20 rows\n",
      "\n"
     ]
    }
   ],
   "source": [
    "# Load in data\n",
    "from pyspark import SparkFiles #same\n",
    "url = \"Resources/Turnstile_data/*.csv\"\n",
    "df = spark.read.csv(url, header=True, mode=\"DROPMALFORMED\")\n",
    "df.show() "
   ]
  },
  {
   "cell_type": "code",
   "execution_count": 3,
   "metadata": {},
   "outputs": [
    {
     "name": "stdout",
     "output_type": "stream",
     "text": [
      "root\n",
      " |-- C/A: string (nullable = true)\n",
      " |-- Unit: string (nullable = true)\n",
      " |-- SCP: string (nullable = true)\n",
      " |-- Station: string (nullable = true)\n",
      " |-- Line Name: string (nullable = true)\n",
      " |-- Division: string (nullable = true)\n",
      " |-- Date: string (nullable = true)\n",
      " |-- Time: string (nullable = true)\n",
      " |-- Description: string (nullable = true)\n",
      " |-- Entries: string (nullable = true)\n",
      " |-- Exits                                                     : string (nullable = true)\n",
      "\n"
     ]
    }
   ],
   "source": [
    "# Print our schema\n",
    "df.printSchema()"
   ]
  },
  {
   "cell_type": "code",
   "execution_count": 4,
   "metadata": {},
   "outputs": [
    {
     "data": {
      "text/plain": [
       "['C/A',\n",
       " 'Unit',\n",
       " 'SCP',\n",
       " 'Station',\n",
       " 'Line Name',\n",
       " 'Division',\n",
       " 'Date',\n",
       " 'Time',\n",
       " 'Description',\n",
       " 'Entries',\n",
       " 'Exits                                                     ']"
      ]
     },
     "execution_count": 4,
     "metadata": {},
     "output_type": "execute_result"
    }
   ],
   "source": [
    "# Show the columns\n",
    "df.columns"
   ]
  },
  {
   "cell_type": "code",
   "execution_count": 5,
   "metadata": {},
   "outputs": [
    {
     "data": {
      "text/plain": [
       "Column<b'Station'>"
      ]
     },
     "execution_count": 5,
     "metadata": {},
     "output_type": "execute_result"
    }
   ],
   "source": [
    "df['Station']"
   ]
  },
  {
   "cell_type": "code",
   "execution_count": 6,
   "metadata": {},
   "outputs": [
    {
     "name": "stdout",
     "output_type": "stream",
     "text": [
      "+----------+--------+\n",
      "|      Date| Entries|\n",
      "+----------+--------+\n",
      "|12/28/2018| 2056268|\n",
      "|12/28/2018|70294362|\n",
      "|12/28/2018|14197229|\n",
      "|12/28/2018| 1806541|\n",
      "|12/28/2018|15598097|\n",
      "|12/28/2018| 6069026|\n",
      "|12/28/2018| 4927946|\n",
      "|12/28/2018| 1806541|\n",
      "|12/28/2018|  694109|\n",
      "|12/28/2018|70294362|\n",
      "|12/28/2018| 2056268|\n",
      "|12/28/2018| 4927946|\n",
      "|12/28/2018| 6069026|\n",
      "|12/28/2018|  694109|\n",
      "|12/28/2018|14197229|\n",
      "|12/28/2018|15598097|\n",
      "|12/28/2018| 1923632|\n",
      "|12/28/2018| 3687618|\n",
      "|12/28/2018| 1923632|\n",
      "|12/28/2018|68007701|\n",
      "+----------+--------+\n",
      "only showing top 20 rows\n",
      "\n"
     ]
    }
   ],
   "source": [
    "df.select('Date', 'Entries').show()"
   ]
  },
  {
   "cell_type": "code",
   "execution_count": 7,
   "metadata": {},
   "outputs": [],
   "source": [
    "# import pandas as pd\n",
    "# pandas_df = df.toPandas() "
   ]
  },
  {
   "cell_type": "code",
   "execution_count": 9,
   "metadata": {},
   "outputs": [
    {
     "data": {
      "text/plain": [
       "[Row(C/A='R626', Unit='R062', SCP='00-00-00', Station='CROWN HTS-UTICA', Line Name='34', Division='IRT', Date='06/17/2014', Time='08:00:00', Description='REGULAR', Entries='9999999', Exits                                                     ='2242502'),\n",
       " Row(C/A='B019', Unit='R149', SCP='00-00-02', Station='NEWKIRK PLAZA', Line Name='BQ', Division='BMT', Date='01/22/2018', Time='20:00:00', Description='REGULAR', Entries='9999997', Exits                                                     ='11600216'),\n",
       " Row(C/A='R248', Unit='R178', SCP='00-00-07', Station='77 ST', Line Name='6', Division='IRT', Date='11/29/2017', Time='16:00:00', Description='REGULAR', Entries='9999996', Exits                                                     ='1413693'),\n",
       " Row(C/A='H007', Unit='R248', SCP='00-00-00', Station='1 AVE', Line Name='L', Division='BMT', Date='08/08/2015', Time='00:00:00', Description='REGULAR', Entries='9999995', Exits                                                     ='10879540'),\n",
       " Row(C/A='H027', Unit='R137', SCP='01-00-00', Station='MYRTLE-WYCKOFF', Line Name='LM', Division='BMT', Date='01/31/2018', Time='11:00:00', Description='REGULAR', Entries='9999995', Exits                                                     ='5496149')]"
      ]
     },
     "execution_count": 9,
     "metadata": {},
     "output_type": "execute_result"
    }
   ],
   "source": [
    "df.orderBy(df[\"Entries\"].desc()).head(5)"
   ]
  },
  {
   "cell_type": "code",
   "execution_count": 10,
   "metadata": {},
   "outputs": [
    {
     "data": {
      "text/plain": [
       "49230245"
      ]
     },
     "execution_count": 10,
     "metadata": {},
     "output_type": "execute_result"
    }
   ],
   "source": [
    "df.count()"
   ]
  },
  {
   "cell_type": "code",
   "execution_count": 11,
   "metadata": {},
   "outputs": [],
   "source": [
    "import pandas as pd\n",
    "import numpy as np\n",
    "\n",
    "import datetime as dt\n",
    "import re\n",
    "import time\n",
    "\n",
    "import matplotlib.pyplot as plt\n",
    "\n",
    "import seaborn as sns\n"
   ]
  },
  {
   "cell_type": "code",
   "execution_count": null,
   "metadata": {},
   "outputs": [],
   "source": []
  }
 ],
 "metadata": {
  "kernelspec": {
   "display_name": "Python 3",
   "language": "python",
   "name": "python3"
  },
  "language_info": {
   "codemirror_mode": {
    "name": "ipython",
    "version": 3
   },
   "file_extension": ".py",
   "mimetype": "text/x-python",
   "name": "python",
   "nbconvert_exporter": "python",
   "pygments_lexer": "ipython3",
   "version": "3.6.5"
  }
 },
 "nbformat": 4,
 "nbformat_minor": 2
}
